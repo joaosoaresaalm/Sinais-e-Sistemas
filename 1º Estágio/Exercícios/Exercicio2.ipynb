{
 "cells": [
  {
   "cell_type": "markdown",
   "metadata": {},
   "source": [
    "Sinais e Sistemas \n",
    "\n",
    "Aluno(a): João Victor Soares de Almeida\n",
    "\n",
    "Curso: Engenharia de Computação"
   ]
  },
  {
   "cell_type": "markdown",
   "metadata": {},
   "source": [
    "<h1>Questão 1.21</h1>"
   ]
  },
  {
   "cell_type": "code",
   "execution_count": 20,
   "metadata": {
    "collapsed": true
   },
   "outputs": [],
   "source": [
    "import numpy as np\n",
    "import matplotlib.pyplot as plt"
   ]
  },
  {
   "cell_type": "code",
   "execution_count": 24,
   "metadata": {
    "collapsed": true
   },
   "outputs": [],
   "source": [
    "def triang(t, tau): return (1 - np.abs(t)/tau)*(np.abs(t)<float(tau))\n",
    "\n",
    "def rampa(t): \n",
    "    return np.maximum(0,t)\n",
    "\n",
    "def unit_ramp(t, a, b, c, d):\n",
    "    return [np.piecewise(x, [x<a, a<x<c, x>c], [b, lambda r: ((d-b)/(c-a))*(r-a)+b ,d]) for x in t]"
   ]
  },
  {
   "cell_type": "code",
   "execution_count": 23,
   "metadata": {},
   "outputs": [
    {
     "data": {
      "text/plain": [
       "[<matplotlib.lines.Line2D at 0x26a5d0ebe10>]"
      ]
     },
     "execution_count": 23,
     "metadata": {},
     "output_type": "execute_result"
    }
   ],
   "source": [
    "t = np.linspace(-2, 2, 400)\n",
    "var1 = -triang(t + 2, 1)\n",
    "var2 = np.heaviside(t + 1, 1)\n",
    "var3 = np.heaviside(t, 1)\n",
    "var4 = -np.heaviside(t - 1, 1)\n",
    "var5 = -triang(t - 2, 1)\n",
    "\n",
    "plt.plot(t, (var1+var2+var3+var4+var5))"
   ]
  },
  {
   "cell_type": "markdown",
   "metadata": {},
   "source": [
    "**Letra A**\n",
    "\n",
    "x(t -1)"
   ]
  },
  {
   "cell_type": "code",
   "execution_count": 11,
   "metadata": {},
   "outputs": [
    {
     "data": {
      "text/plain": [
       "[<matplotlib.lines.Line2D at 0x26a5cd96438>]"
      ]
     },
     "execution_count": 11,
     "metadata": {},
     "output_type": "execute_result"
    }
   ],
   "source": [
    "t = np.linspace(-1, 3, 400)\n",
    "var1 = -triang(t + 1, 1)\n",
    "var2 = np.heaviside(t, 1)\n",
    "var3 = np.heaviside(t - 1, 1)\n",
    "var4 = -np.heaviside(t - 2, 1)\n",
    "var5 = -triang(t - 3, 1)\n",
    "\n",
    "plt.plot(t, (var1+var2+var3+var5+var4))"
   ]
  },
  {
   "cell_type": "markdown",
   "metadata": {},
   "source": [
    "**Letra B**\n",
    "\n",
    "x(2 - t)"
   ]
  },
  {
   "cell_type": "code",
   "execution_count": 13,
   "metadata": {},
   "outputs": [
    {
     "data": {
      "text/plain": [
       "[<matplotlib.lines.Line2D at 0x26a5d0e52b0>]"
      ]
     },
     "execution_count": 13,
     "metadata": {},
     "output_type": "execute_result"
    }
   ],
   "source": [
    "t = np.linspace(-4, 0, 400)\n",
    "var1 = -triang(t + 4, 1) + 1\n",
    "var2 = np.heaviside(t + 3, 1)\n",
    "var3 = -np.heaviside(t + 2, 1)\n",
    "var4 = -np.heaviside(t + 1, 1)\n",
    "var5 = -triang(t, 1)\n",
    "\n",
    "plt.plot(t, var1+var2+var3+var4+var5)"
   ]
  },
  {
   "cell_type": "markdown",
   "metadata": {},
   "source": [
    "**Letra C**\n",
    "\n",
    "x(2t + 1)"
   ]
  },
  {
   "cell_type": "code",
   "execution_count": 14,
   "metadata": {},
   "outputs": [
    {
     "data": {
      "text/plain": [
       "[<matplotlib.lines.Line2D at 0x26a5d0e5a90>]"
      ]
     },
     "execution_count": 14,
     "metadata": {},
     "output_type": "execute_result"
    }
   ],
   "source": [
    "t = np.linspace(-4, 0, 400)\n",
    "var1 = -triang(t + 4, 1)\n",
    "var2 = np.heaviside(t + 3, 1)\n",
    "var3 = np.heaviside(t + 2, 1)\n",
    "var4 = -np.heaviside(t + 1, 1)\n",
    "var5 = -triang(t, 1)\n",
    "\n",
    "plt.plot(t/2, var1+var2+var3+var4+var5)"
   ]
  },
  {
   "cell_type": "markdown",
   "metadata": {},
   "source": [
    "**Letra D**\n",
    "\n",
    "x(4 - t/2)"
   ]
  },
  {
   "cell_type": "code",
   "execution_count": 15,
   "metadata": {},
   "outputs": [
    {
     "data": {
      "text/plain": [
       "[<matplotlib.lines.Line2D at 0x26a5d0eb518>]"
      ]
     },
     "execution_count": 15,
     "metadata": {},
     "output_type": "execute_result"
    }
   ],
   "source": [
    "t = np.linspace(-4, 0, 400)\n",
    "var1 = -triang(t + 4, 1) + 1\n",
    "var2 = np.heaviside(t + 3, 2)\n",
    "var3 = -np.heaviside(t + 2, 1)\n",
    "var4 = -np.heaviside(t + 1, 1)\n",
    "var5 = -triang(t, 1)\n",
    "\n",
    "plt.plot(t*2, var1+var2+var3+var4+var5)"
   ]
  },
  {
   "cell_type": "markdown",
   "metadata": {},
   "source": [
    "**Letra E**\n",
    "\n",
    "[x(t) + x(-t)] x u(t)"
   ]
  },
  {
   "cell_type": "code",
   "execution_count": 17,
   "metadata": {},
   "outputs": [
    {
     "data": {
      "text/plain": [
       "[<matplotlib.lines.Line2D at 0x26a5d100eb8>]"
      ]
     },
     "execution_count": 17,
     "metadata": {},
     "output_type": "execute_result"
    }
   ],
   "source": [
    "t = np.linspace(-2, 2, 400)\n",
    "var1 = -triang(t + 2, 1)\n",
    "var2 = np.heaviside(t + 1, 1)\n",
    "var3 = np.heaviside(t, 1)\n",
    "var4 = -np.heaviside(t - 1, 1)\n",
    "var5 = -triang(t - 2, 1)\n",
    "\n",
    "var6 = -triang(t + 2, 1) + 1\n",
    "var7 = np.heaviside(t + 1, 1)\n",
    "var8 = -np.heaviside(t, 1)\n",
    "var9 = -np.heaviside(t - 1, 1)\n",
    "var10 = -triang(t - 2, 1)\n",
    "\n",
    "tot = var2+var3+var4+var7+var8+var9\n",
    "\n",
    "\n",
    "degrauUnitario = np.heaviside(t, 1)\n",
    "\n",
    "plt.plot(t, tot*degrauUnitario)"
   ]
  },
  {
   "cell_type": "markdown",
   "metadata": {},
   "source": [
    "<h1> Questão 1.23 </h1>"
   ]
  },
  {
   "cell_type": "markdown",
   "metadata": {},
   "source": [
    "** Letra (A) **"
   ]
  },
  {
   "cell_type": "code",
   "execution_count": 25,
   "metadata": {},
   "outputs": [
    {
     "data": {
      "text/plain": [
       "[<matplotlib.lines.Line2D at 0x26a5ccdb710>]"
      ]
     },
     "execution_count": 25,
     "metadata": {},
     "output_type": "execute_result"
    }
   ],
   "source": [
    "t = np.linspace(-2, 2, 400)\n",
    "var1 = triang(t - 1, 1)\n",
    "var2 = triang(t + 1, 1)\n",
    "\n",
    "tot = var1 + var2\n",
    "\n",
    "plt.plot(t, tot/2)"
   ]
  },
  {
   "cell_type": "code",
   "execution_count": 26,
   "metadata": {},
   "outputs": [
    {
     "data": {
      "text/plain": [
       "[<matplotlib.lines.Line2D at 0x26a5d481710>]"
      ]
     },
     "execution_count": 26,
     "metadata": {},
     "output_type": "execute_result"
    }
   ],
   "source": [
    "t = np.linspace(-2, 2, 400)\n",
    "var1 = triang(t - 1, 1)\n",
    "var2 = -triang(t + 1, 1)\n",
    "\n",
    "tot = var1 + var2\n",
    "\n",
    "plt.plot(t, tot/2)"
   ]
  },
  {
   "cell_type": "markdown",
   "metadata": {},
   "source": [
    "**Letra B **"
   ]
  },
  {
   "cell_type": "code",
   "execution_count": 27,
   "metadata": {},
   "outputs": [
    {
     "data": {
      "text/plain": [
       "[<matplotlib.lines.Line2D at 0x26a5d4814a8>]"
      ]
     },
     "execution_count": 27,
     "metadata": {},
     "output_type": "execute_result"
    }
   ],
   "source": [
    "t = np.linspace(-2, 2, 400)\n",
    "var1 = triang(t + 1, 1)\n",
    "var2 = unit_ramp(t, 0, 0, 1, 1)\n",
    "\n",
    "tot = var1 + var2\n",
    "plt.plot(t, tot)"
   ]
  },
  {
   "cell_type": "code",
   "execution_count": 28,
   "metadata": {},
   "outputs": [
    {
     "data": {
      "text/plain": [
       "[<matplotlib.lines.Line2D at 0x26a5d481668>]"
      ]
     },
     "execution_count": 28,
     "metadata": {},
     "output_type": "execute_result"
    }
   ],
   "source": [
    "t = np.linspace(-2, 2, 400)\n",
    "var1 = triang(t - 1, 1)\n",
    "var2 = unit_ramp(t, -1, 1, 0, 0)\n",
    "\n",
    "tot = var1 + var2\n",
    "\n",
    "plt.plot(t, tot)"
   ]
  },
  {
   "cell_type": "code",
   "execution_count": 29,
   "metadata": {},
   "outputs": [
    {
     "data": {
      "text/plain": [
       "[<matplotlib.lines.Line2D at 0x26a5d476470>]"
      ]
     },
     "execution_count": 29,
     "metadata": {},
     "output_type": "execute_result"
    }
   ],
   "source": [
    "t = np.linspace(-4, 4, 400)\n",
    "var1 = triang(t + 1, 1)\n",
    "var2 = unit_ramp(t, 0, 0, 1, 1)\n",
    "\n",
    "var3 = triang(t - 1, 1)\n",
    "var4 = unit_ramp(t, -1, 1, 0, 0)\n",
    "\n",
    "tot = var1 + var2\n",
    "temp = var3 + var4\n",
    "\n",
    "plt.plot(t, tot+temp)"
   ]
  },
  {
   "cell_type": "code",
   "execution_count": 30,
   "metadata": {},
   "outputs": [
    {
     "data": {
      "text/plain": [
       "[<matplotlib.lines.Line2D at 0x26a5cc7db00>]"
      ]
     },
     "execution_count": 30,
     "metadata": {},
     "output_type": "execute_result"
    }
   ],
   "source": [
    "t = np.linspace(-2, 2, 400)\n",
    "var1 = triang(t + 1, 1)\n",
    "var2 = unit_ramp(t, 0, 0, 1, 1)\n",
    "\n",
    "tot = var1 + var2\n",
    "plt.plot(t, tot)"
   ]
  },
  {
   "cell_type": "code",
   "execution_count": 31,
   "metadata": {},
   "outputs": [
    {
     "data": {
      "text/plain": [
       "[<matplotlib.lines.Line2D at 0x26a5d47ca58>]"
      ]
     },
     "execution_count": 31,
     "metadata": {},
     "output_type": "execute_result"
    }
   ],
   "source": [
    "t = np.linspace(-2, 2, 400)\n",
    "var1 = -triang(t - 1, 1)\n",
    "var2 = unit_ramp(t, -1, -1, 0, 0)\n",
    "\n",
    "tot = var1 + var2\n",
    "plt.plot(t, tot)"
   ]
  },
  {
   "cell_type": "code",
   "execution_count": 32,
   "metadata": {},
   "outputs": [
    {
     "data": {
      "text/plain": [
       "[<matplotlib.lines.Line2D at 0x26a5ccdb2b0>]"
      ]
     },
     "execution_count": 32,
     "metadata": {},
     "output_type": "execute_result"
    }
   ],
   "source": [
    "t = np.linspace(-4, 4, 400)\n",
    "var1 = triang(t + 1, 1)\n",
    "var2 = unit_ramp(t, 0, 0, 1, 1)\n",
    "\n",
    "var3 = -triang(t - 1, 1)\n",
    "var4 = unit_ramp(t, -1, -1, 0, 0)\n",
    "\n",
    "tot = var1 + var2\n",
    "temp = var3 + var4\n",
    "\n",
    "plt.plot(t, tot+temp)"
   ]
  },
  {
   "cell_type": "code",
   "execution_count": null,
   "metadata": {
    "collapsed": true
   },
   "outputs": [],
   "source": []
  }
 ],
 "metadata": {
  "kernelspec": {
   "display_name": "Python 3",
   "language": "python",
   "name": "python3"
  },
  "language_info": {
   "codemirror_mode": {
    "name": "ipython",
    "version": 3
   },
   "file_extension": ".py",
   "mimetype": "text/x-python",
   "name": "python",
   "nbconvert_exporter": "python",
   "pygments_lexer": "ipython3",
   "version": "3.6.0"
  }
 },
 "nbformat": 4,
 "nbformat_minor": 2
}
