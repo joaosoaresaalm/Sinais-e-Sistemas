{
 "cells": [
  {
   "cell_type": "markdown",
   "metadata": {},
   "source": [
    "<h1> Roteiro 2 - Sinais e Sistemas </h1>\n",
    "\n",
    "** Engenharia de Computação**\n",
    "\n",
    "**Aluno(a): João Victor Soares de Almeida**"
   ]
  },
  {
   "cell_type": "markdown",
   "metadata": {},
   "source": [
    "<h3> Questão 1.27 </h3>"
   ]
  },
  {
   "cell_type": "markdown",
   "metadata": {},
   "source": [
    "**Descrição: **\n",
    "\n",
    "**De acordo com a Seção 1.6.1, um sistema é considerado sem memória se sua saída para cada valor da variável independente em um determinado momento depende apenas da entrada na mesma hora. **\n",
    "\n",
    "\n",
    "**De acordo com a Seção 1.6.3, um sistema é considerado causal se a saída a qualquer momento depende apenas da entrada no momento atual e no passado.**\n",
    "\n",
    "\n",
    "**De acordo com a Seção 1.6.5, um sistema é considerado como tempo invariante se um deslocamento de tempo no sinal de sinal resultar em um desvio de tempo idêntico na saída do sinal, se y (t) for a saída de um tempo invariável em tempo discreto sistema quando x (t) é a entrada, então y (t - t0) é a saída quando x (t-t0) é aplicado.**\n",
    "\n",
    "\n",
    "**De acordo com a Seção 1.6.6, um sistema é considerado linear, se satisfizer as propriedades de aditividade e homogeneidade, superpondo a propriedade **\n"
   ]
  },
  {
   "cell_type": "markdown",
   "metadata": {},
   "source": [
    "**(a)**"
   ]
  },
  {
   "cell_type": "markdown",
   "metadata": {},
   "source": [
    "y(t) = x(t -2) + x(2 - t)\n",
    "\n",
    "Considere t = 0\n",
    "\n",
    "     * y(0) = x(-2) + x(2)\n",
    "     \n",
    "**Resposta para Causalidade e Memória:**\n",
    "\n",
    "**R**: A saída, y(0) em t = 0, depende do valor passado e do valor futuro. Portanto, de acordo com as definições de causalidade e sem memória, o sistema é não causal e com memória\n",
    "\n",
    "**Invariabilidade**\n",
    "\n",
    "Considere o deslocamento como t0:\n",
    "    y(t) = x(t - 2) + x(2 - t)\n",
    "    y1(t) = x1(t - t0 - 2) + x1(2 - t + t0)\n",
    "    x2(t) = x1(t - t0  - 2) + x1(2 - t + t0)\n",
    "    y2(t) = x2(t) \n",
    "    \n",
    "**R**:A partir da equação acima, é claro que um deslocamento de t0 na saída não tem um deslocamento correspondente na entrada, o que implica que o sistema é variante no tempo\n",
    "\n",
    "Vamos aplicar o princípio da superposição para verificar a linearidade do sistema. \n",
    "    y1(t) = x1(t - 2) + x1(2 - t)\n",
    "    y2(t) = x2(t - 2) + x2(2 - t)\n",
    "    \n",
    "    a*x1(t) + b*x2(t) = a*[x1(t - 2) + x1(2 - t)] + b*[x2(t - 2) + x2(2 - t)]\n",
    "                      = a*x1(t - 2) + b*x2(t - 2) + a*x1(2 - t) + b*x2(2 - t)\n",
    "                      = a*x1(t - 2) + a*x1(2 - t) + b*x2(t - 2) + b*x2(2 - t)\n",
    "                      = ay1(t) + by2(t\n",
    "                      \n",
    "                      \n",
    "Logo, é Linear\n",
    "\n",
    "\n",
    "**Estabilidade**\n",
    " \n",
    " Considere, |x(t)| <= C\n",
    " \n",
    " |y(t)| <= |x(t - 2) + x(2 - t)|\n",
    " \n",
    " |y(t)| <= C\n",
    " \n",
    " \n",
    " Logo, a expressão acima é estável\n",
    " "
   ]
  },
  {
   "cell_type": "markdown",
   "metadata": {},
   "source": [
    "**(b)**"
   ]
  },
  {
   "cell_type": "markdown",
   "metadata": {},
   "source": [
    "**Causalidade e Memória**\n",
    "y(t) = [cos(3t)]*x(t)\n",
    "\n",
    "Considere, a saída t = t1\n",
    "    y(t1) = [cos(3t1)]*x(t1)\n",
    "\n",
    "**R**:A saída y (t1), em t = t1, depende do valor atual, x (t1). Portanto, de acordo com as definições de causalidade e sem memória, o sistema é causal e é sem memória.\n",
    "\n",
    "** Invariabilidade **\n",
    "\n",
    "Considere o deslocamento como t0:\n",
    "    \n",
    "        y1(t) = [cos(3t)] * x(t)\n",
    "        y1(t) = [cos(3t - to)] * x(t - to)\n",
    "        x2(t) = x(t - to)\n",
    "        y2(t) = [cos(3t)] * x2(t)\n",
    "        \n",
    "**R**:A partir da equação acima, é claro que um deslocamento de t0 na saída não tem um deslocamento correspondente na entrada, o que implica que o sistema é variante no tempo\n",
    "\n",
    "\n",
    "Vamos aplicar o princípio da superposição para verificar a linearidade do sistema,\n",
    "      \n",
    "      y1(t) = [cos(3t)] * x1(t)\n",
    "      y2(t) = [cos(3t)] * x2(t)\n",
    "      \n",
    "      a*y1(t) + b*y1(t) = a*{[cos(3t)] * x1(t)} + b*{[cos(3t)] * x2(t)}\n",
    "                        = a*[cos(3t)] + b*[cos(3t)] + a*x1(t) + b*x2(t)      \n",
    "                        = a*[cos(3t)] + a*x1(t) + b*[cos(3t)] + b*x2(t) \n",
    "                        = ay1(t) + by2(t)\n",
    "Logo, é Linear\n",
    "\n",
    "** Estabilidade **\n",
    "\n",
    "Considere, |y(t)| < C\n",
    "\n",
    "    |y(t)| = |[cos(3t)]| * x(t)|\n",
    "    |y(t)| = |[cos(3t)]| *|x(t)|\n",
    "    |y(t)| <= |x(t)|\n",
    "    |y(t)| < C\n",
    "    "
   ]
  },
  {
   "cell_type": "markdown",
   "metadata": {},
   "source": [
    "**(c)**"
   ]
  },
  {
   "cell_type": "markdown",
   "metadata": {},
   "source": [
    "** Causalidade e Memória **\n",
    "\n",
    "y(t) = integral()_ -inf ^ 2t  x(t) dt\n",
    "\n",
    "\n",
    "y(t1) = integral()_ -inf ^ 2t1  x(t1) dt\n",
    "\n",
    "**R**: A saída de y(1) depende do passado, presente e futuro, logo é não causal e tem memória \n",
    "\n",
    "\n",
    "\n",
    "** Invariabilidade **\n",
    "\n",
    "y(t - t0) = integral()_ -inf ^ 2(t - t0)  x(s) ds\n",
    "y(t - t0) = integral()_ -inf ^ 2(t - t0) x(s) ds\n",
    "\n",
    "x(t - t0) --> y(t) = y(t) = integral()_ -inf ^ 2t  x(t) dt\n",
    "\n",
    "**R**: A partir da equação acima, é claro que um deslocamento de t0 na saída não tem um deslocamento correspondente na entrada, o que implica que o sistema é variante no tempo.\n",
    "\n",
    "y1(t) = integral()_ -inf ^ 2t  x(s) ds\n",
    "y2(t) = integral()_ -inf ^ 2t  x(s) ds\n",
    "\n",
    "a*y1(t) + b*y2(t) = integral()_ -inf ^ 2t  a*x(s) ds + integral()_ -inf ^ 2t  b*x(s) ds         = a*integral()_ -inf ^ 2t  x(s) ds + b*integral()_ -inf ^ 2t  x(s) ds\n",
    "\n",
    "                   = a*y1(t) + b*y2(t)\n",
    "                   \n",
    "** Estabilidade **\n",
    "\n",
    "\n"
   ]
  },
  {
   "cell_type": "markdown",
   "metadata": {},
   "source": [
    "**(f)**"
   ]
  },
  {
   "cell_type": "markdown",
   "metadata": {},
   "source": [
    "** Causalidade e Memória **\n",
    "\n",
    "y(t) = x(t/3)\n",
    "\n",
    "Considere t = 0,\n",
    "  y(0) = x(0)\n",
    "    \n",
    "**R**: Causal e com memória\n",
    "\n",
    "**Variabilidade**\n",
    "y(t - t0) = x(t - t0/3)\n",
    "x(t - t0) ---> y(t) = x(t - t0/3)\n",
    "\n",
    "**R**: É variante no tempo \n",
    "\n",
    "** Linearidade **\n",
    "y1 = x1(t/3)\n",
    "y2 = x2(t/3)\n",
    "\n",
    "x3 = a*x1(t/3) + b*x2(t/3)\n",
    "x3  = a*y1(t/3) + b*y2(t/3)\n",
    "\n",
    "\n",
    "** Estabilidade **\n",
    "\n",
    "|y(t)| <= |x(t/3)| * C\n",
    "|y(t)| <= C\n",
    "\n",
    "\n",
    "**R** O sistema é estável"
   ]
  },
  {
   "cell_type": "markdown",
   "metadata": {},
   "source": [
    "**(d)**"
   ]
  },
  {
   "cell_type": "markdown",
   "metadata": {},
   "source": [
    "y(t) = 0, t < 0\n",
    "y(t) = x(t) + x(t-2), t>= 0\n",
    "\n",
    "y(t1) = 0, t1 < 0\n",
    "y(t1) = x(t1) + x(t1-2) , t1>= 0\n",
    "\n",
    "\n",
    "**R**: O sistema é Causal e tem memória\n",
    "\n",
    "\n",
    "\n",
    "\n",
    "y(t - t0) = x(t- t0) + x(t-t0-2), t>= t0\n",
    "x(t - t0) --> y(t)\n",
    "\n",
    "Sistema Variante no Tempo\n",
    "\n",
    "y3(t) = a*y1(t) + b*y2(t)\n",
    "\n",
    "O Sistema é Linear"
   ]
  },
  {
   "cell_type": "markdown",
   "metadata": {},
   "source": [
    "<h2> Questão 1.31 </h2>"
   ]
  },
  {
   "cell_type": "markdown",
   "metadata": {},
   "source": [
    "(a)"
   ]
  },
  {
   "cell_type": "markdown",
   "metadata": {},
   "source": [
    "![title](img/sinais.png)"
   ]
  },
  {
   "cell_type": "markdown",
   "metadata": {},
   "source": [
    "(b)"
   ]
  },
  {
   "cell_type": "markdown",
   "metadata": {},
   "source": [
    "![title](img/sinais2.png)"
   ]
  },
  {
   "cell_type": "code",
   "execution_count": null,
   "metadata": {
    "collapsed": true
   },
   "outputs": [],
   "source": []
  }
 ],
 "metadata": {
  "kernelspec": {
   "display_name": "Python 3",
   "language": "python",
   "name": "python3"
  },
  "language_info": {
   "codemirror_mode": {
    "name": "ipython",
    "version": 3
   },
   "file_extension": ".py",
   "mimetype": "text/x-python",
   "name": "python",
   "nbconvert_exporter": "python",
   "pygments_lexer": "ipython3",
   "version": "3.6.0"
  }
 },
 "nbformat": 4,
 "nbformat_minor": 2
}
